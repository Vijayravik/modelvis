{
 "cells": [
  {
   "cell_type": "code",
   "execution_count": 1,
   "metadata": {
    "collapsed": true
   },
   "outputs": [],
   "source": [
    "import numpy as np\n",
    "import pandas as pd\n",
    "import seaborn as sn\n",
    "import matplotlib.pyplot as plt\n",
    "from pandas.tools.plotting import scatter_matrix\n",
    "from pandas.tools.plotting import parallel_coordinates\n",
    "from sklearn.linear_model import LogisticRegression\n",
    "from sklearn.ensemble import RandomForestClassifier\n",
    "from sklearn import tree\n",
    "from sklearn import discriminant_analysis\n",
    "from sklearn import svm\n",
    "from sklearn import preprocessing\n",
    "from sklearn import cross_validation\n",
    "from sklearn.decomposition import PCA"
   ]
  },
  {
   "cell_type": "code",
   "execution_count": 2,
   "metadata": {
    "collapsed": true
   },
   "outputs": [],
   "source": [
    "def load_df(csv_name):\n",
    "    global df   \n",
    "    df = pd.read_csv(csv_name)\n",
    "    df.ix[:, df.columns!='category'] = preprocessing.MinMaxScaler().fit_transform(df.ix[:, df.columns!='category'])\n",
    "    print('Shape of the loaded data frame:', df.shape)\n",
    "    print('\\nFirst 5 entries:\\n', df.head())\n"
   ]
  },
  {
   "cell_type": "code",
   "execution_count": 3,
   "metadata": {
    "collapsed": false
   },
   "outputs": [],
   "source": [
    "def train_attr(train_col, predict_col):\n",
    "    X = pd.DataFrame(df.iloc[:, train_col])\n",
    "    Y = df.iloc[:, predict_col]\n",
    "    return X, Y"
   ]
  },
  {
   "cell_type": "code",
   "execution_count": 4,
   "metadata": {
    "collapsed": true
   },
   "outputs": [],
   "source": [
    "def new_model():\n",
    "    model_new = pd.DataFrame()\n",
    "    return model_new"
   ]
  },
  {
   "cell_type": "code",
   "execution_count": 5,
   "metadata": {
    "collapsed": false
   },
   "outputs": [],
   "source": [
    "def add_model(x, y, model_clf, model_df, test_size, rand_state):\n",
    "    X, Y = train_attr(x, y)\n",
    "    train_X, test_X, train_Y, test_Y = cross_validation.train_test_split(X, np.ravel(Y), \\\n",
    "                                                                         test_size = test_size, random_state = rand_state)\n",
    "    model = model_clf.fit(train_X, train_Y)\n",
    "    model_instance = pd.DataFrame()\n",
    "    model_instance['split (test_size, seed)'] = [[test_size, rand_state]]\n",
    "    model_instance['train_X'] = [train_X]\n",
    "    model_instance['predicted'] = [pd.DataFrame(model.predict(train_X))]\n",
    "    model_instance['coef'] = [pd.DataFrame(model.coef_)]\n",
    "    model_instance['proba'] = [pd.DataFrame(model.predict_proba(train_X))]\n",
    "    model_instance['score_train'] = model.score(train_X, train_Y) \n",
    "    model_instance['score_test'] = model.score(test_X, test_Y) \n",
    "    model_df = model_df.append(model_instance, ignore_index= True)\n",
    "    return model_df"
   ]
  },
  {
   "cell_type": "code",
   "execution_count": 6,
   "metadata": {
    "collapsed": false
   },
   "outputs": [
    {
     "name": "stdout",
     "output_type": "stream",
     "text": [
      "Shape of the loaded data frame: (1599, 13)\n",
      "\n",
      "First 5 entries:\n",
      "    fixed acidity  volatile acidity  citric acid  residual sugar  chlorides  \\\n",
      "0       0.247788          0.397260         0.00        0.068493   0.106845   \n",
      "1       0.283186          0.520548         0.00        0.116438   0.143573   \n",
      "2       0.283186          0.438356         0.04        0.095890   0.133556   \n",
      "3       0.584071          0.109589         0.56        0.068493   0.105175   \n",
      "4       0.247788          0.397260         0.00        0.068493   0.106845   \n",
      "\n",
      "   free sulfur dioxide  total sulfur dioxide   density        pH  sulphates  \\\n",
      "0             0.140845              0.098940  0.567548  0.606299   0.137725   \n",
      "1             0.338028              0.215548  0.494126  0.362205   0.209581   \n",
      "2             0.197183              0.169611  0.508811  0.409449   0.191617   \n",
      "3             0.225352              0.190813  0.582232  0.330709   0.149701   \n",
      "4             0.140845              0.098940  0.567548  0.606299   0.137725   \n",
      "\n",
      "    alcohol  quality  category  \n",
      "0  0.153846      0.4       0.0  \n",
      "1  0.215385      0.4       0.0  \n",
      "2  0.215385      0.4       0.0  \n",
      "3  0.215385      0.6       1.0  \n",
      "4  0.153846      0.4       0.0  \n"
     ]
    }
   ],
   "source": [
    "load_df(\"./winequality-red2.csv\")"
   ]
  },
  {
   "cell_type": "code",
   "execution_count": 7,
   "metadata": {
    "collapsed": false
   },
   "outputs": [],
   "source": [
    "model_logit = new_model()\n",
    "\n",
    "model_logit = add_model(x = (10, 1, 2, 3, 4), y = 12, model_clf = LogisticRegression(), model_df = model_logit, \\\n",
    "                        test_size = 0.3, rand_state = 1)\n",
    "model_logit = add_model(x = (10, 1, 2, 3, 4), y = 12, model_clf = LogisticRegression(), model_df = model_logit, \\\n",
    "                        test_size = 0.4, rand_state = 1)\n",
    "\n",
    "\n",
    "model_lda = new_model()\n",
    "\n",
    "model_lda = add_model(x = (10, 1, 2, 3, 4), y = 12, model_clf = discriminant_analysis.LinearDiscriminantAnalysis(), model_df = model_lda, test_size = 0.3, rand_state = 1)\n",
    "model_lda = add_model(x = (10, 9, 8), y = 12, model_clf = discriminant_analysis.LinearDiscriminantAnalysis(), model_df = model_lda, test_size = 0.4, rand_state = 6)"
   ]
  },
  {
   "cell_type": "code",
   "execution_count": 8,
   "metadata": {
    "collapsed": false
   },
   "outputs": [
    {
     "data": {
      "text/html": [
       "<div>\n",
       "<table border=\"1\" class=\"dataframe\">\n",
       "  <thead>\n",
       "    <tr style=\"text-align: right;\">\n",
       "      <th></th>\n",
       "      <th>split (test_size, seed)</th>\n",
       "      <th>train_X</th>\n",
       "      <th>predicted</th>\n",
       "      <th>coef</th>\n",
       "      <th>proba</th>\n",
       "      <th>score_train</th>\n",
       "      <th>score_test</th>\n",
       "    </tr>\n",
       "  </thead>\n",
       "  <tbody>\n",
       "    <tr>\n",
       "      <th>0</th>\n",
       "      <td>[0.3, 1]</td>\n",
       "      <td>alcohol  volatile acidity  citric acid ...</td>\n",
       "      <td>0\n",
       "0     0.0\n",
       "1     1.0\n",
       "2     0.0\n",
       "3     ...</td>\n",
       "      <td>0         1         2         3     ...</td>\n",
       "      <td>0         1\n",
       "0     0.813059  0.186...</td>\n",
       "      <td>0.730116</td>\n",
       "      <td>0.75625</td>\n",
       "    </tr>\n",
       "    <tr>\n",
       "      <th>1</th>\n",
       "      <td>[0.4, 1]</td>\n",
       "      <td>alcohol  volatile acidity  citric acid ...</td>\n",
       "      <td>0\n",
       "0    1.0\n",
       "1    0.0\n",
       "2    0.0\n",
       "3    1.0\n",
       "4...</td>\n",
       "      <td>0         1         2         3     ...</td>\n",
       "      <td>0         1\n",
       "0    0.093427  0.90657...</td>\n",
       "      <td>0.724713</td>\n",
       "      <td>0.75625</td>\n",
       "    </tr>\n",
       "  </tbody>\n",
       "</table>\n",
       "</div>"
      ],
      "text/plain": [
       "  split (test_size, seed)                                            train_X  \\\n",
       "0                [0.3, 1]         alcohol  volatile acidity  citric acid ...   \n",
       "1                [0.4, 1]         alcohol  volatile acidity  citric acid ...   \n",
       "\n",
       "                                           predicted  \\\n",
       "0          0\n",
       "0     0.0\n",
       "1     1.0\n",
       "2     0.0\n",
       "3     ...   \n",
       "1         0\n",
       "0    1.0\n",
       "1    0.0\n",
       "2    0.0\n",
       "3    1.0\n",
       "4...   \n",
       "\n",
       "                                                coef  \\\n",
       "0            0         1         2         3     ...   \n",
       "1            0         1         2         3     ...   \n",
       "\n",
       "                                               proba  score_train  score_test  \n",
       "0               0         1\n",
       "0     0.813059  0.186...     0.730116     0.75625  \n",
       "1              0         1\n",
       "0    0.093427  0.90657...     0.724713     0.75625  "
      ]
     },
     "execution_count": 8,
     "metadata": {},
     "output_type": "execute_result"
    }
   ],
   "source": [
    "model_logit"
   ]
  },
  {
   "cell_type": "code",
   "execution_count": 9,
   "metadata": {
    "collapsed": false
   },
   "outputs": [
    {
     "data": {
      "text/html": [
       "<div>\n",
       "<table border=\"1\" class=\"dataframe\">\n",
       "  <thead>\n",
       "    <tr style=\"text-align: right;\">\n",
       "      <th></th>\n",
       "      <th>split (test_size, seed)</th>\n",
       "      <th>train_X</th>\n",
       "      <th>predicted</th>\n",
       "      <th>coef</th>\n",
       "      <th>proba</th>\n",
       "      <th>score_train</th>\n",
       "      <th>score_test</th>\n",
       "    </tr>\n",
       "  </thead>\n",
       "  <tbody>\n",
       "    <tr>\n",
       "      <th>0</th>\n",
       "      <td>[0.3, 1]</td>\n",
       "      <td>alcohol  volatile acidity  citric acid ...</td>\n",
       "      <td>0\n",
       "0     0.0\n",
       "1     1.0\n",
       "2     0.0\n",
       "3     ...</td>\n",
       "      <td>0         1         2         3     ...</td>\n",
       "      <td>0         1\n",
       "0     0.906720  0.093...</td>\n",
       "      <td>0.734584</td>\n",
       "      <td>0.750000</td>\n",
       "    </tr>\n",
       "    <tr>\n",
       "      <th>1</th>\n",
       "      <td>[0.4, 6]</td>\n",
       "      <td>alcohol  sulphates        pH\n",
       "303   0.16...</td>\n",
       "      <td>0\n",
       "0    0.0\n",
       "1    1.0\n",
       "2    1.0\n",
       "3    1.0\n",
       "4...</td>\n",
       "      <td>0         1         2\n",
       "0  6.614959  4...</td>\n",
       "      <td>0         1\n",
       "0    0.757606  0.24239...</td>\n",
       "      <td>0.717414</td>\n",
       "      <td>0.689063</td>\n",
       "    </tr>\n",
       "  </tbody>\n",
       "</table>\n",
       "</div>"
      ],
      "text/plain": [
       "  split (test_size, seed)                                            train_X  \\\n",
       "0                [0.3, 1]         alcohol  volatile acidity  citric acid ...   \n",
       "1                [0.4, 6]         alcohol  sulphates        pH\n",
       "303   0.16...   \n",
       "\n",
       "                                           predicted  \\\n",
       "0          0\n",
       "0     0.0\n",
       "1     1.0\n",
       "2     0.0\n",
       "3     ...   \n",
       "1         0\n",
       "0    0.0\n",
       "1    1.0\n",
       "2    1.0\n",
       "3    1.0\n",
       "4...   \n",
       "\n",
       "                                                coef  \\\n",
       "0            0         1         2         3     ...   \n",
       "1            0         1         2\n",
       "0  6.614959  4...   \n",
       "\n",
       "                                               proba  score_train  score_test  \n",
       "0               0         1\n",
       "0     0.906720  0.093...     0.734584    0.750000  \n",
       "1              0         1\n",
       "0    0.757606  0.24239...     0.717414    0.689063  "
      ]
     },
     "execution_count": 9,
     "metadata": {},
     "output_type": "execute_result"
    }
   ],
   "source": [
    "model_lda"
   ]
  }
 ],
 "metadata": {
  "kernelspec": {
   "display_name": "Python 3",
   "language": "python",
   "name": "python3"
  },
  "language_info": {
   "codemirror_mode": {
    "name": "ipython",
    "version": 3
   },
   "file_extension": ".py",
   "mimetype": "text/x-python",
   "name": "python",
   "nbconvert_exporter": "python",
   "pygments_lexer": "ipython3",
   "version": "3.5.1"
  }
 },
 "nbformat": 4,
 "nbformat_minor": 0
}
