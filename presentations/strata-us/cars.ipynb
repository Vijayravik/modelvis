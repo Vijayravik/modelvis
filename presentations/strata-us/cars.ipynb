{
 "cells": [
  {
   "cell_type": "markdown",
   "metadata": {},
   "source": [
    "# Model Visualisation - Cars"
   ]
  },
  {
   "cell_type": "code",
   "execution_count": 1,
   "metadata": {
    "collapsed": true
   },
   "outputs": [],
   "source": [
    "import numpy as np\n",
    "import pandas as pd"
   ]
  },
  {
   "cell_type": "code",
   "execution_count": 2,
   "metadata": {
    "collapsed": false
   },
   "outputs": [],
   "source": [
    "import matplotlib.pyplot as plt\n",
    "%matplotlib inline"
   ]
  },
  {
   "cell_type": "code",
   "execution_count": 3,
   "metadata": {
    "collapsed": false
   },
   "outputs": [],
   "source": [
    "plt.style.use('fivethirtyeight')"
   ]
  },
  {
   "cell_type": "code",
   "execution_count": null,
   "metadata": {
    "collapsed": true
   },
   "outputs": [],
   "source": [
    "# Font Settings\n",
    "plt.rcParams['font.family'] = 'monospace'\n",
    "plt.rcParams['font.size'] = '24'"
   ]
  },
  {
   "cell_type": "code",
   "execution_count": null,
   "metadata": {
    "collapsed": false
   },
   "outputs": [],
   "source": [
    "# Figure Customization\n",
    "plt.rcParams['figure.figsize'] = (16, 10)\n",
    "plt.rcParams['figure.dpi'] = 150"
   ]
  },
  {
   "cell_type": "code",
   "execution_count": null,
   "metadata": {
    "collapsed": false
   },
   "outputs": [],
   "source": [
    "# Save Figure Customization\n",
    "plt.rcParams['savefig.directory'] = \"/images\"\n",
    "plt.rcParams['savefig.dpi'] = 150\n",
    "plt.rcParams['savefig.bbox'] = 'tight'\n",
    "plt.rcParams['savefig.pad_inches'] = 0.5"
   ]
  },
  {
   "cell_type": "code",
   "execution_count": null,
   "metadata": {
    "collapsed": false
   },
   "outputs": [],
   "source": [
    "# Axes Customization\n",
    "plt.rcParams['axes.grid'] = False\n",
    "plt.rcParams['axes.linewidth'] = 3\n",
    "plt.rcParams['axes.spines.right'] = False\n",
    "plt.rcParams['axes.spines.top'] = False\n",
    "plt.rcParams['axes.labelpad'] = 15\n",
    "#plt.rcParams['axes.prop_cycle'] = cycler('color', ['#8dd3c7', '#feffb3', '#bfbbd9', '#fa8174', '#81b1d2', \n",
    "#                                                   '#fdb462', '#b3de69', '#bc82bd', '#ccebc4', '#ffed6f']),\n",
    "plt.rcParams['axes3d.grid'] = False"
   ]
  },
  {
   "cell_type": "code",
   "execution_count": null,
   "metadata": {
    "collapsed": true
   },
   "outputs": [],
   "source": [
    "# Line Customization\n",
    "plt.rcParams['lines.linewidth'] = 3"
   ]
  },
  {
   "cell_type": "code",
   "execution_count": null,
   "metadata": {
    "collapsed": true
   },
   "outputs": [],
   "source": [
    "# Tick Customization\n",
    "plt.rcParams['xtick.direction'] = 'out'\n",
    "plt.rcParams['ytick.direction'] = 'out'\n",
    "plt.rcParams['xtick.major.pad'] = 20.0\n",
    "plt.rcParams['ytick.major.pad'] = 20.0\n",
    "plt.rcParams['xtick.major.width'] = 2\n",
    "plt.rcParams['ytick.major.width'] = 2\n",
    "plt.rcParams['xtick.major.size'] = 8\n",
    "plt.rcParams['ytick.major.size'] = 8"
   ]
  },
  {
   "cell_type": "code",
   "execution_count": null,
   "metadata": {
    "collapsed": true
   },
   "outputs": [],
   "source": [
    "def hide_spines():\n",
    "    \"\"\"Hides the top and rightmost axis spines from view for all active\n",
    "    figures and their respective axes.\"\"\"\n",
    "\n",
    "    # Retrieve a list of all current figures.\n",
    "    figures = [x for x in plt._pylab_helpers.Gcf.get_all_fig_managers()]\n",
    "    for figure in figures:\n",
    "        # Get all Axis instances related to the figure.\n",
    "        for ax in figure.canvas.figure.get_axes():\n",
    "            # Disable spines.\n",
    "            #ax.spines['right'].set_color('none')\n",
    "            #ax.spines['top'].set_color('none')\n",
    "            # Disable ticks.\n",
    "            ax.xaxis.set_ticks_position('bottom')\n",
    "            ax.yaxis.set_ticks_position('left')"
   ]
  },
  {
   "cell_type": "code",
   "execution_count": null,
   "metadata": {
    "collapsed": false
   },
   "outputs": [],
   "source": [
    "# Marker Customization\n",
    "plt.rcParams['markers.fillstyle'] = 'none'"
   ]
  },
  {
   "cell_type": "code",
   "execution_count": null,
   "metadata": {
    "collapsed": false
   },
   "outputs": [],
   "source": [
    "# plt.rcParams"
   ]
  },
  {
   "cell_type": "code",
   "execution_count": 4,
   "metadata": {
    "collapsed": true
   },
   "outputs": [],
   "source": [
    "# Specify Color\n",
    "black = \"#000000\"\n",
    "green = \"#00FF1C\"\n",
    "yellow = \"#FFFF00\"\n",
    "blue = \"#0000FF\"\n",
    "red = \"#FF0000\"\n",
    "orange = \"#FFA500\""
   ]
  },
  {
   "cell_type": "markdown",
   "metadata": {},
   "source": [
    "## Load the Data"
   ]
  },
  {
   "cell_type": "code",
   "execution_count": 5,
   "metadata": {
    "collapsed": true
   },
   "outputs": [],
   "source": [
    "cars = pd.read_csv(\"data/cars_small.csv\")"
   ]
  },
  {
   "cell_type": "code",
   "execution_count": 6,
   "metadata": {
    "collapsed": false
   },
   "outputs": [],
   "source": [
    "cars = cars.sort_values(by = 'price')"
   ]
  },
  {
   "cell_type": "code",
   "execution_count": 7,
   "metadata": {
    "collapsed": false
   },
   "outputs": [
    {
     "data": {
      "text/html": [
       "<div>\n",
       "<table border=\"1\" class=\"dataframe\">\n",
       "  <thead>\n",
       "    <tr style=\"text-align: right;\">\n",
       "      <th></th>\n",
       "      <th>brand</th>\n",
       "      <th>model</th>\n",
       "      <th>price</th>\n",
       "      <th>kmpl</th>\n",
       "      <th>bhp</th>\n",
       "      <th>type</th>\n",
       "    </tr>\n",
       "  </thead>\n",
       "  <tbody>\n",
       "    <tr>\n",
       "      <th>35</th>\n",
       "      <td>Tata</td>\n",
       "      <td>Nano</td>\n",
       "      <td>199</td>\n",
       "      <td>23.9</td>\n",
       "      <td>38</td>\n",
       "      <td>Hatchback</td>\n",
       "    </tr>\n",
       "    <tr>\n",
       "      <th>17</th>\n",
       "      <td>Suzuki</td>\n",
       "      <td>Alto 800</td>\n",
       "      <td>248</td>\n",
       "      <td>22.7</td>\n",
       "      <td>47</td>\n",
       "      <td>Hatchback</td>\n",
       "    </tr>\n",
       "    <tr>\n",
       "      <th>11</th>\n",
       "      <td>Hyundai</td>\n",
       "      <td>EON</td>\n",
       "      <td>302</td>\n",
       "      <td>21.1</td>\n",
       "      <td>55</td>\n",
       "      <td>Hatchback</td>\n",
       "    </tr>\n",
       "    <tr>\n",
       "      <th>26</th>\n",
       "      <td>Nissan</td>\n",
       "      <td>Datsun GO</td>\n",
       "      <td>312</td>\n",
       "      <td>20.6</td>\n",
       "      <td>67</td>\n",
       "      <td>Hatchback</td>\n",
       "    </tr>\n",
       "  </tbody>\n",
       "</table>\n",
       "</div>"
      ],
      "text/plain": [
       "      brand      model  price  kmpl  bhp       type\n",
       "35     Tata       Nano    199  23.9   38  Hatchback\n",
       "17   Suzuki   Alto 800    248  22.7   47  Hatchback\n",
       "11  Hyundai        EON    302  21.1   55  Hatchback\n",
       "26   Nissan  Datsun GO    312  20.6   67  Hatchback"
      ]
     },
     "execution_count": 7,
     "metadata": {},
     "output_type": "execute_result"
    }
   ],
   "source": [
    "cars.head(4)"
   ]
  },
  {
   "cell_type": "code",
   "execution_count": 8,
   "metadata": {
    "collapsed": false
   },
   "outputs": [
    {
     "data": {
      "text/html": [
       "<div>\n",
       "<table border=\"1\" class=\"dataframe\">\n",
       "  <thead>\n",
       "    <tr style=\"text-align: right;\">\n",
       "      <th></th>\n",
       "      <th>brand</th>\n",
       "      <th>model</th>\n",
       "      <th>price</th>\n",
       "      <th>kmpl</th>\n",
       "      <th>bhp</th>\n",
       "      <th>type</th>\n",
       "    </tr>\n",
       "  </thead>\n",
       "  <tbody>\n",
       "    <tr>\n",
       "      <th>19</th>\n",
       "      <td>Suzuki</td>\n",
       "      <td>Ciaz</td>\n",
       "      <td>725</td>\n",
       "      <td>20.7</td>\n",
       "      <td>91</td>\n",
       "      <td>Sedan</td>\n",
       "    </tr>\n",
       "    <tr>\n",
       "      <th>33</th>\n",
       "      <td>Skoda</td>\n",
       "      <td>Rapid</td>\n",
       "      <td>756</td>\n",
       "      <td>15.0</td>\n",
       "      <td>104</td>\n",
       "      <td>Sedan</td>\n",
       "    </tr>\n",
       "    <tr>\n",
       "      <th>14</th>\n",
       "      <td>Hyundai</td>\n",
       "      <td>Verna</td>\n",
       "      <td>774</td>\n",
       "      <td>17.4</td>\n",
       "      <td>106</td>\n",
       "      <td>Sedan</td>\n",
       "    </tr>\n",
       "    <tr>\n",
       "      <th>41</th>\n",
       "      <td>Volkswagen</td>\n",
       "      <td>Vento</td>\n",
       "      <td>785</td>\n",
       "      <td>16.1</td>\n",
       "      <td>104</td>\n",
       "      <td>Sedan</td>\n",
       "    </tr>\n",
       "  </tbody>\n",
       "</table>\n",
       "</div>"
      ],
      "text/plain": [
       "         brand  model  price  kmpl  bhp   type\n",
       "19      Suzuki   Ciaz    725  20.7   91  Sedan\n",
       "33       Skoda  Rapid    756  15.0  104  Sedan\n",
       "14     Hyundai  Verna    774  17.4  106  Sedan\n",
       "41  Volkswagen  Vento    785  16.1  104  Sedan"
      ]
     },
     "execution_count": 8,
     "metadata": {},
     "output_type": "execute_result"
    }
   ],
   "source": [
    "cars.tail(4)"
   ]
  },
  {
   "cell_type": "code",
   "execution_count": 9,
   "metadata": {
    "collapsed": false
   },
   "outputs": [],
   "source": [
    "cars.loc[cars.type == 'Hatchback', 'type'] = 'hatchback'\n",
    "cars.loc[cars.type == 'Sedan', 'type'] = 'sedan'"
   ]
  },
  {
   "cell_type": "code",
   "execution_count": 10,
   "metadata": {
    "collapsed": false
   },
   "outputs": [],
   "source": [
    "cars.loc[cars.type == 'hatchback', 'types'] = 0\n",
    "cars.loc[cars.type == 'sedan', 'types'] = 1"
   ]
  },
  {
   "cell_type": "code",
   "execution_count": 11,
   "metadata": {
    "collapsed": false
   },
   "outputs": [
    {
     "data": {
      "text/html": [
       "<div>\n",
       "<table border=\"1\" class=\"dataframe\">\n",
       "  <thead>\n",
       "    <tr style=\"text-align: right;\">\n",
       "      <th></th>\n",
       "      <th>brand</th>\n",
       "      <th>model</th>\n",
       "      <th>price</th>\n",
       "      <th>kmpl</th>\n",
       "      <th>bhp</th>\n",
       "      <th>type</th>\n",
       "      <th>types</th>\n",
       "    </tr>\n",
       "  </thead>\n",
       "  <tbody>\n",
       "    <tr>\n",
       "      <th>35</th>\n",
       "      <td>Tata</td>\n",
       "      <td>Nano</td>\n",
       "      <td>199</td>\n",
       "      <td>23.9</td>\n",
       "      <td>38</td>\n",
       "      <td>hatchback</td>\n",
       "      <td>0.0</td>\n",
       "    </tr>\n",
       "    <tr>\n",
       "      <th>17</th>\n",
       "      <td>Suzuki</td>\n",
       "      <td>Alto 800</td>\n",
       "      <td>248</td>\n",
       "      <td>22.7</td>\n",
       "      <td>47</td>\n",
       "      <td>hatchback</td>\n",
       "      <td>0.0</td>\n",
       "    </tr>\n",
       "    <tr>\n",
       "      <th>11</th>\n",
       "      <td>Hyundai</td>\n",
       "      <td>EON</td>\n",
       "      <td>302</td>\n",
       "      <td>21.1</td>\n",
       "      <td>55</td>\n",
       "      <td>hatchback</td>\n",
       "      <td>0.0</td>\n",
       "    </tr>\n",
       "    <tr>\n",
       "      <th>26</th>\n",
       "      <td>Nissan</td>\n",
       "      <td>Datsun GO</td>\n",
       "      <td>312</td>\n",
       "      <td>20.6</td>\n",
       "      <td>67</td>\n",
       "      <td>hatchback</td>\n",
       "      <td>0.0</td>\n",
       "    </tr>\n",
       "    <tr>\n",
       "      <th>16</th>\n",
       "      <td>Suzuki</td>\n",
       "      <td>Alto</td>\n",
       "      <td>315</td>\n",
       "      <td>24.1</td>\n",
       "      <td>67</td>\n",
       "      <td>hatchback</td>\n",
       "      <td>0.0</td>\n",
       "    </tr>\n",
       "  </tbody>\n",
       "</table>\n",
       "</div>"
      ],
      "text/plain": [
       "      brand      model  price  kmpl  bhp       type  types\n",
       "35     Tata       Nano    199  23.9   38  hatchback    0.0\n",
       "17   Suzuki   Alto 800    248  22.7   47  hatchback    0.0\n",
       "11  Hyundai        EON    302  21.1   55  hatchback    0.0\n",
       "26   Nissan  Datsun GO    312  20.6   67  hatchback    0.0\n",
       "16   Suzuki       Alto    315  24.1   67  hatchback    0.0"
      ]
     },
     "execution_count": 11,
     "metadata": {},
     "output_type": "execute_result"
    }
   ],
   "source": [
    "cars.head()"
   ]
  },
  {
   "cell_type": "code",
   "execution_count": 12,
   "metadata": {
    "collapsed": false
   },
   "outputs": [],
   "source": [
    "cars = cars.sort_values(by ='kmpl')"
   ]
  },
  {
   "cell_type": "code",
   "execution_count": 13,
   "metadata": {
    "collapsed": true
   },
   "outputs": [],
   "source": [
    "price = cars['price']\n",
    "kmpl = cars['kmpl']\n",
    "types = cars['types']\n",
    "bhp = cars['bhp']"
   ]
  },
  {
   "cell_type": "markdown",
   "metadata": {},
   "source": [
    "## [0] Visualise the Data"
   ]
  },
  {
   "cell_type": "code",
   "execution_count": 14,
   "metadata": {
    "collapsed": false
   },
   "outputs": [
    {
     "data": {
      "image/png": "[encoded data removed]",
      "text/plain": [
       "<matplotlib.figure.Figure at 0x10e18c7f0>"
      ]
     },
     "metadata": {},
     "output_type": "display_data"
    }
   ],
   "source": [
    "plt.scatter(kmpl, price, s = 300, c = types, linewidth=0)\n",
    "plt.xlabel('kmpl')\n",
    "plt.ylabel('price')\n",
    "plt.savefig(\"figures/fig_cars_01.png\")"
   ]
  },
  {
   "cell_type": "markdown",
   "metadata": {},
   "source": [
    "## [1] Visualise the Prediction \n",
    "\n",
    "### Ordinary Least Square (OLS)"
   ]
  },
  {
   "cell_type": "code",
   "execution_count": null,
   "metadata": {
    "collapsed": true
   },
   "outputs": [],
   "source": [
    "from sklearn import linear_model"
   ]
  },
  {
   "cell_type": "code",
   "execution_count": null,
   "metadata": {
    "collapsed": false
   },
   "outputs": [],
   "source": [
    "# Run OLS\n",
    "model_ols = linear_model.LinearRegression(normalize = True).fit(kmpl.reshape(-1,1),price)\n",
    "price_ols = model_ols.predict(kmpl.reshape(-1,1))\n",
    "beta_0_ols, beta_1_ols = model_ols.intercept_, model_ols.coef_[0]"
   ]
  },
  {
   "cell_type": "code",
   "execution_count": null,
   "metadata": {
    "collapsed": true
   },
   "outputs": [],
   "source": [
    "cars['price_ols'] = price_ols"
   ]
  },
  {
   "cell_type": "code",
   "execution_count": null,
   "metadata": {
    "collapsed": false
   },
   "outputs": [],
   "source": [
    "# Plot the data & model line\n",
    "plt.scatter(kmpl, price, s = 250, facecolor=\"None\", edgecolor=green, linewidth=2)\n",
    "plt.scatter(kmpl, price_ols, s = 250, facecolor=\"None\", edgecolor=orange, linewidth=4)\n",
    "\n",
    "plt.xlabel('kmpl')\n",
    "plt.ylabel('price')\n",
    "hide_spines()\n",
    "plt.savefig(\"figures/fig_cars_02.png\")"
   ]
  },
  {
   "cell_type": "markdown",
   "metadata": {},
   "source": [
    "## [2] Visualise the Model Parameters\n",
    "\n",
    "### Ridge Regression"
   ]
  },
  {
   "cell_type": "code",
   "execution_count": null,
   "metadata": {
    "collapsed": true
   },
   "outputs": [],
   "source": [
    "from sklearn import linear_model\n",
    "\n",
    "def ridge_sklearn(df, alpha):\n",
    "    y = df.price\n",
    "    X = df.kmpl.reshape(-1,1)\n",
    "    X = np.c_[np.ones((X.shape[0],1)),X]\n",
    "    model = linear_model.Ridge(alpha = alpha, normalize = True, fit_intercept = False)\n",
    "    model.fit(X,y)\n",
    "    price_ridge = model.predict(X)\n",
    "    beta, price_ridge = np.array([model.coef_]).T, price_ridge\n",
    "    return beta, price_ridge"
   ]
  },
  {
   "cell_type": "code",
   "execution_count": null,
   "metadata": {
    "collapsed": false
   },
   "outputs": [],
   "source": [
    "ridge_sklearn(cars, 0.1)"
   ]
  },
  {
   "cell_type": "code",
   "execution_count": null,
   "metadata": {
    "collapsed": false
   },
   "outputs": [],
   "source": [
    "ridge_model, price_ridge = ridge_sklearn(cars, 0.1)"
   ]
  },
  {
   "cell_type": "code",
   "execution_count": null,
   "metadata": {
    "collapsed": true
   },
   "outputs": [],
   "source": [
    "cars['price_ridge'] = price_ridge"
   ]
  },
  {
   "cell_type": "code",
   "execution_count": null,
   "metadata": {
    "collapsed": false
   },
   "outputs": [],
   "source": [
    "beta_0_ridge, beta_1_ridge = ridge_model[0,0], ridge_model[1,0]"
   ]
  },
  {
   "cell_type": "code",
   "execution_count": null,
   "metadata": {
    "collapsed": false
   },
   "outputs": [],
   "source": [
    "def ridge_plot(df, alphas, func):\n",
    "    plt.scatter(df.kmpl, df.price, s = 250, facecolor=\"None\", edgecolor=green, linewidth=2)\n",
    "    plt.xlabel('kmpl')\n",
    "    plt.ylabel('price')\n",
    "    \n",
    "    # Plot the Ridge line\n",
    "    for a in alphas: \n",
    "        beta, price_ridge = func(df, a)\n",
    "        x = np.arange(min(df.kmpl)-1, max(df.kmpl)+1, 1)\n",
    "        y = beta[0,0] + beta[1,0] * x\n",
    "        plt.plot(x, y, '-', c = orange)\n",
    "        plt.text(x[-1] + 0.3, y[-1] - 10, r'$\\alpha = $%s' % a)\n",
    "    hide_spines()"
   ]
  },
  {
   "cell_type": "code",
   "execution_count": null,
   "metadata": {
    "collapsed": false
   },
   "outputs": [],
   "source": [
    "ridge_plot(cars, [0.0, 0.1, 0.5, 0.2, 1.0], ridge_sklearn)\n",
    "plt.savefig(\"figures/fig_cars_03.png\")"
   ]
  },
  {
   "cell_type": "markdown",
   "metadata": {},
   "source": [
    "## [3] Visualise with different Input Parameters\n",
    "\n",
    "### Bootstraping (Resampling)"
   ]
  },
  {
   "cell_type": "code",
   "execution_count": null,
   "metadata": {
    "collapsed": true
   },
   "outputs": [],
   "source": [
    "def bootstrap_ridge_single (z, alpha, func):\n",
    "    plt.scatter(kmpl, price, s = 250, facecolor=\"None\", edgecolor=green, linewidth=2)\n",
    "    beta = []\n",
    "    for i in range(z):\n",
    "        \n",
    "        # Select a sample and run Ridge\n",
    "        sample_random = cars.sample(n=cars.shape[0], replace = True)\n",
    "        b, p = func(sample_random, alpha)\n",
    "        beta.append([b[0,0], b[1,0]])\n",
    "        \n",
    "        # Get the Ridge line\n",
    "        x = np.arange(min(cars.kmpl)-1, max(cars.kmpl)+1, 1)\n",
    "        y = b[0,0] + b[1,0] *x\n",
    "        \n",
    "        # Set the plotting area\n",
    "        #plt.subplot(1, 2, 1)\n",
    "        #plt.tight_layout()\n",
    "        a = round(1/np.log(z), 2)\n",
    "        \n",
    "        # Plot the Ridge line\n",
    "        plt.plot(x,y, '-', linewidth = 1, c = orange, alpha = a)\n",
    "        plt.xlabel('kmpl')\n",
    "        plt.ylabel('price')\n",
    "        plt.ylim(100,900)\n",
    "\n",
    "        # Plot the intercept and coefficients\n",
    "        #plt.subplot(1,2,2)\n",
    "        #plt.scatter(beta[i][1],beta[i][0], s = 200, alpha = a, facecolor=orange, edgecolor=orange, linewidth=2)\n",
    "        #plt.xlim(-120,60)\n",
    "        #plt.ylim(-500,3000)\n",
    "        #plt.xlabel('beta_1')\n",
    "        #plt.ylabel('beta_0')\n",
    "    \n",
    "    # Plot the Population line\n",
    "    #plt.subplot(1, 2, 1)\n",
    "    x = np.arange(min(cars.kmpl)-1,max(cars.kmpl)+1,1)\n",
    "    y_p = beta_0_ols + beta_1_ols * x\n",
    "    plt.plot(x, y_p, '-', linewidth =\"4\", c = 'white', alpha = 0.6)\n",
    "    hide_spines()"
   ]
  },
  {
   "cell_type": "code",
   "execution_count": null,
   "metadata": {
    "collapsed": false,
    "scrolled": false
   },
   "outputs": [],
   "source": [
    "bootstrap_ridge_single (1000, [0.01], ridge_sklearn)\n",
    "plt.savefig(\"figures/fig_cars_04.png\")"
   ]
  },
  {
   "cell_type": "code",
   "execution_count": null,
   "metadata": {
    "collapsed": true
   },
   "outputs": [],
   "source": [
    "def bootstrap_ridge_dual (z, alpha, func):\n",
    "    # plt.scatter(kmpl, price, s = 250, facecolor=\"None\", edgecolor=green, linewidth=2)\n",
    "    beta = []\n",
    "    for i in range(z):\n",
    "        \n",
    "        # Select a sample and run Ridge\n",
    "        sample_random = cars.sample(n=cars.shape[0], replace = True)\n",
    "        b,p = func(sample_random, alpha)\n",
    "        beta.append([b[0,0], b[1,0]])\n",
    "        \n",
    "        # Get the Ridge line\n",
    "        x = np.arange(min(cars.kmpl)-1, max(cars.kmpl)+1, 1)\n",
    "        y = b[0,0] + b[1,0] *x\n",
    "        \n",
    "        # Set the plotting area\n",
    "        plt.subplot(1, 2, 1)\n",
    "        plt.tight_layout()\n",
    "        a = round(1/np.log(z), 2)\n",
    "        \n",
    "        # Plot the Ridge line\n",
    "        plt.plot(x,y, '-', linewidth = 1, c = orange, alpha = a)\n",
    "        plt.xlabel('kmpl')\n",
    "        plt.ylabel('price')\n",
    "        plt.ylim(100,900)\n",
    "\n",
    "        # Plot the intercept and coefficients\n",
    "        plt.subplot(1,2,2)\n",
    "        plt.scatter(beta[i][1],beta[i][0], s = 100, alpha = a, facecolor=orange, edgecolor=orange, linewidth=2)\n",
    "        plt.xlabel('beta_1')\n",
    "        plt.ylabel('beta_0')\n",
    "    \n",
    "    # Plot the Population line\n",
    "    plt.subplot(1, 2, 1)\n",
    "    x = np.arange(min(cars.kmpl)-1,max(cars.kmpl)+1,1)\n",
    "    y_p = beta_0_ols + beta_1_ols * x\n",
    "    plt.plot(x, y_p, '-', linewidth =\"4\", c = 'white', alpha = 0.6)\n",
    "    hide_spines()"
   ]
  },
  {
   "cell_type": "code",
   "execution_count": null,
   "metadata": {
    "collapsed": false
   },
   "outputs": [],
   "source": [
    "bootstrap_ridge_dual (1000, 0.01, ridge_sklearn)\n",
    "plt.savefig(\"figures/fig_cars_05.png\")"
   ]
  },
  {
   "cell_type": "markdown",
   "metadata": {},
   "source": [
    "## [4] Visualise the Model Space"
   ]
  },
  {
   "cell_type": "code",
   "execution_count": null,
   "metadata": {
    "collapsed": false
   },
   "outputs": [],
   "source": [
    "import statsmodels.formula.api as sm\n",
    "model_poly3 = sm.ols('price ~ np.power(kmpl, 3) + np.power(kmpl, 2) + kmpl', cars).fit()\n",
    "price_poly3 = model_poly3.predict(kmpl)"
   ]
  },
  {
   "cell_type": "code",
   "execution_count": null,
   "metadata": {
    "collapsed": false
   },
   "outputs": [],
   "source": [
    "cars['price_poly3'] = price_poly3"
   ]
  },
  {
   "cell_type": "code",
   "execution_count": null,
   "metadata": {
    "collapsed": true
   },
   "outputs": [],
   "source": [
    "from statsmodels.nonparametric.smoothers_lowess import lowess\n",
    "price_lowess = lowess(price, kmpl)[:,1]"
   ]
  },
  {
   "cell_type": "code",
   "execution_count": null,
   "metadata": {
    "collapsed": false
   },
   "outputs": [],
   "source": [
    "cars['price_lowess'] = price_lowess"
   ]
  },
  {
   "cell_type": "code",
   "execution_count": null,
   "metadata": {
    "collapsed": false
   },
   "outputs": [],
   "source": [
    "# Plot the data & model line\n",
    "x = np.array(kmpl)\n",
    "y = np.array(price)\n",
    "y1 = np.array(cars.price_ols)\n",
    "y2 = np.array(cars.price_ridge)\n",
    "y3 = np.array(cars.price_lowess)\n",
    "y4 = np.array(cars.price_poly3)\n",
    "\n",
    "plt.scatter(x, y, s = 250, facecolor=\"None\", edgecolor=green, linewidth=2)\n",
    "\n",
    "plt.plot(x, y1, '-', linewidth =\"2\", c = orange)\n",
    "plt.text(x[0] - 0.8, y1[0], 'OLS')\n",
    "\n",
    "plt.plot(x, y2, '-', linewidth =\"2\", c = orange)\n",
    "plt.text(x[0] - 1.2, y2[0] - 15, 'Ridge')\n",
    "\n",
    "plt.plot(x, y3, '-', linewidth =\"4\", c = orange)\n",
    "plt.text(x[-1] + 0.3, y3[-1] - 20, 'Lowess')\n",
    "\n",
    "plt.plot(x, y4, '-', linewidth =\"4\", c = orange)\n",
    "plt.text(x[-1] + 0.3, y4[-1], 'Poly(3)')\n",
    "\n",
    "plt.xlabel('kmpl')\n",
    "plt.ylabel('price')\n",
    "hide_spines()\n",
    "plt.savefig(\"figures/fig_cars_06.png\")"
   ]
  },
  {
   "cell_type": "code",
   "execution_count": null,
   "metadata": {
    "collapsed": false
   },
   "outputs": [],
   "source": [
    "# Plot the data & model line\n",
    "x = np.array(kmpl)\n",
    "y = np.array(price)\n",
    "y1 = np.array(cars.price_ols)\n",
    "y2 = np.array(cars.price_ridge)\n",
    "y3 = np.array(cars.price_lowess)\n",
    "y4 = np.array(cars.price_poly3)\n",
    "\n",
    "y5 = (y1 + y2 + y3 + y4)/4\n",
    "\n",
    "plt.scatter(x, y, s = 250, facecolor=\"None\", edgecolor=green, linewidth=2)\n",
    "\n",
    "plt.plot(x, y1, '-', linewidth =\"1\", c = orange)\n",
    "\n",
    "plt.plot(x, y2, '-', linewidth =\"1\", c = orange)\n",
    "\n",
    "plt.plot(x, y3, '-', linewidth =\"1\", c = orange)\n",
    "\n",
    "plt.plot(x, y4, '-', linewidth =\"1\", c = orange)\n",
    "\n",
    "plt.plot(x, y5, '-', linewidth =\"5\", c = orange)\n",
    "plt.text(x[-1] + 0.3, y4[-1], 'Ensemble')\n",
    "\n",
    "plt.xlabel('kmpl')\n",
    "plt.ylabel('price')\n",
    "hide_spines()\n",
    "plt.savefig(\"figures/fig_cars_06b.png\")"
   ]
  },
  {
   "cell_type": "markdown",
   "metadata": {},
   "source": [
    "## [4] Visualise the model & feature space"
   ]
  },
  {
   "cell_type": "code",
   "execution_count": null,
   "metadata": {
    "collapsed": false
   },
   "outputs": [],
   "source": [
    "ols_4X = np.asmatrix(cars.loc[:,('kmpl','types', 'bhp')])\n",
    "ols_4y = np.asmatrix(cars.loc[:,'price']).T\n",
    "model_ols_4 = linear_model.LinearRegression().fit(ols_4X,ols_4y)\n",
    "price_ols_4 = model_ols_4.predict(ols_4X)\n",
    "beta_0_ols_4, beta_1_ols_4 = model_ols_4.intercept_, model_ols_4.coef_\n",
    "print(beta_0_ols_4, beta_1_ols_4)"
   ]
  },
  {
   "cell_type": "code",
   "execution_count": null,
   "metadata": {
    "collapsed": false
   },
   "outputs": [],
   "source": [
    "cars['price_ols_4'] = price_ols_4\n",
    "cars['price_ols_4_error'] = cars['price_ols_4'] - cars['price']"
   ]
  },
  {
   "cell_type": "code",
   "execution_count": null,
   "metadata": {
    "collapsed": true
   },
   "outputs": [],
   "source": [
    "# Cross Validation\n",
    "from sklearn.cross_validation import cross_val_predict\n",
    "lr = linear_model.LinearRegression()\n",
    "price_ols_4_val = cross_val_predict(lr, ols_4X, ols_4y, cv=6)\n",
    "cars['price_ols_4_val'] = price_ols_4_val"
   ]
  },
  {
   "cell_type": "code",
   "execution_count": null,
   "metadata": {
    "collapsed": true
   },
   "outputs": [],
   "source": [
    "cars['price_ols_4_val'] = price_ols_4\n",
    "cars['price_ols_4_val_error'] = cars['price_ols_4_val'] - cars['price']"
   ]
  },
  {
   "cell_type": "code",
   "execution_count": null,
   "metadata": {
    "collapsed": false
   },
   "outputs": [],
   "source": [
    "# Does not work as facecolor needs to be int\n",
    "markcolor = [green, \"None\"]\n",
    "facecolor = [markcolor[i] for i in list(types.astype(int))]"
   ]
  },
  {
   "cell_type": "code",
   "execution_count": null,
   "metadata": {
    "collapsed": true
   },
   "outputs": [],
   "source": [
    "cars0 = cars[cars.types == 0].copy(deep=True)\n",
    "cars1 = cars[cars.types == 1].copy(deep=True)"
   ]
  },
  {
   "cell_type": "code",
   "execution_count": null,
   "metadata": {
    "collapsed": false
   },
   "outputs": [],
   "source": [
    "cars0"
   ]
  },
  {
   "cell_type": "code",
   "execution_count": null,
   "metadata": {
    "collapsed": false
   },
   "outputs": [],
   "source": [
    "cars1"
   ]
  },
  {
   "cell_type": "code",
   "execution_count": null,
   "metadata": {
    "collapsed": false
   },
   "outputs": [],
   "source": [
    "cars1.shape"
   ]
  },
  {
   "cell_type": "code",
   "execution_count": null,
   "metadata": {
    "collapsed": false
   },
   "outputs": [],
   "source": [
    "plt.scatter(cars0.kmpl, cars0.price, s = 250, facecolor=\"None\", edgecolor=green, linewidth=4)\n",
    "plt.scatter(cars1.kmpl, cars1.price, s = 250, facecolor=green, edgecolor=green, linewidth=4)\n",
    "plt.xlabel('kmpl')\n",
    "plt.ylabel('price')\n",
    "hide_spines()\n",
    "plt.savefig(\"figures/fig_cars_07.png\")"
   ]
  },
  {
   "cell_type": "code",
   "execution_count": null,
   "metadata": {
    "collapsed": false
   },
   "outputs": [],
   "source": [
    "# Run OLS 3 features\n",
    "def ols(kmpl_in,price_in):\n",
    "    # print(df)\n",
    "    model = linear_model.LinearRegression().fit(kmpl_in.reshape(-1,1),price_in)\n",
    "    # print(df.shape)\n",
    "    price_model = model_ols.predict(kmpl_in.reshape(-1,1))\n",
    "    beta, price_model = np.array([model.intercept_, model.coef_[0]]).T, price_model\n",
    "    #print(beta, price_model)\n",
    "    return price_model"
   ]
  },
  {
   "cell_type": "code",
   "execution_count": null,
   "metadata": {
    "collapsed": false
   },
   "outputs": [],
   "source": [
    "kmpl0 = np.array(cars0.kmpl)\n",
    "kmpl1 = np.array(cars1.kmpl)"
   ]
  },
  {
   "cell_type": "code",
   "execution_count": null,
   "metadata": {
    "collapsed": true
   },
   "outputs": [],
   "source": [
    "price0 = np.array(cars0.price)\n",
    "price1 = np.array(cars1.price)"
   ]
  },
  {
   "cell_type": "code",
   "execution_count": null,
   "metadata": {
    "collapsed": false
   },
   "outputs": [],
   "source": [
    "price0.shape, kmpl0.shape, price_lowess_0.shape"
   ]
  },
  {
   "cell_type": "code",
   "execution_count": null,
   "metadata": {
    "collapsed": false
   },
   "outputs": [],
   "source": [
    "price1.shape, kmpl1.shape, price_lowess_1.shape"
   ]
  },
  {
   "cell_type": "code",
   "execution_count": null,
   "metadata": {
    "collapsed": true
   },
   "outputs": [],
   "source": [
    "from statsmodels.nonparametric.smoothers_lowess import lowess\n",
    "price_lowess_0 = lowess(price0, kmpl0)[:,1]\n",
    "price_lowess_1 = lowess(price1, kmpl1, frac=0.8)[:,1]"
   ]
  },
  {
   "cell_type": "code",
   "execution_count": null,
   "metadata": {
    "collapsed": false
   },
   "outputs": [],
   "source": [
    "price0.shape, kmpl0.shape, price_lowess_0.shape"
   ]
  },
  {
   "cell_type": "code",
   "execution_count": null,
   "metadata": {
    "collapsed": false
   },
   "outputs": [],
   "source": [
    "price1.shape, kmpl1.shape, price_lowess_1.shape"
   ]
  },
  {
   "cell_type": "code",
   "execution_count": null,
   "metadata": {
    "collapsed": false
   },
   "outputs": [],
   "source": [
    "price_lowess_0"
   ]
  },
  {
   "cell_type": "code",
   "execution_count": null,
   "metadata": {
    "collapsed": false
   },
   "outputs": [],
   "source": [
    "price_lowess_1"
   ]
  },
  {
   "cell_type": "code",
   "execution_count": null,
   "metadata": {
    "collapsed": false
   },
   "outputs": [],
   "source": [
    "kmpl1"
   ]
  },
  {
   "cell_type": "code",
   "execution_count": null,
   "metadata": {
    "collapsed": false
   },
   "outputs": [],
   "source": [
    "price1"
   ]
  },
  {
   "cell_type": "code",
   "execution_count": null,
   "metadata": {
    "collapsed": false
   },
   "outputs": [],
   "source": [
    "cars0.price_ols"
   ]
  },
  {
   "cell_type": "code",
   "execution_count": null,
   "metadata": {
    "collapsed": false
   },
   "outputs": [],
   "source": [
    "price_ols_type0 = ols(kmpl0,price0)\n",
    "price_ols_type0"
   ]
  },
  {
   "cell_type": "code",
   "execution_count": null,
   "metadata": {
    "collapsed": false
   },
   "outputs": [],
   "source": [
    "price_ols_type1 = ols(kmpl0, price0)"
   ]
  },
  {
   "cell_type": "code",
   "execution_count": null,
   "metadata": {
    "collapsed": false
   },
   "outputs": [],
   "source": [
    "kmpl_type1.shape"
   ]
  },
  {
   "cell_type": "code",
   "execution_count": null,
   "metadata": {
    "collapsed": false
   },
   "outputs": [],
   "source": [
    "price_ols_type1.shape"
   ]
  },
  {
   "cell_type": "code",
   "execution_count": null,
   "metadata": {
    "collapsed": false
   },
   "outputs": [],
   "source": [
    "plt.scatter(kmpl0, price0, s = 250, facecolor=\"None\", edgecolor=green, linewidth=4)\n",
    "plt.scatter(kmpl1, price1, s = 250, facecolor=green, edgecolor=green, linewidth=4)\n",
    "\n",
    "plt.scatter(kmpl0, price_lowess_0, s = 250, facecolor=\"None\", edgecolor=orange, linewidth=4)\n",
    "plt.scatter(kmpl1, price_lowess_1, s = 250, facecolor=orange, edgecolor=orange, linewidth=4)\n",
    "\n",
    "plt.xlabel('kmpl')\n",
    "plt.ylabel('price')\n",
    "\n",
    "plt.xlim(12,26)\n",
    "plt.ylim(100,900)\n",
    "\n",
    "hide_spines()\n",
    "plt.savefig(\"figures/fig_cars_08b.png\")"
   ]
  },
  {
   "cell_type": "markdown",
   "metadata": {},
   "source": [
    "## Simple OLS 3 Feature Model"
   ]
  },
  {
   "cell_type": "code",
   "execution_count": null,
   "metadata": {
    "collapsed": false
   },
   "outputs": [],
   "source": [
    "ols_3X = np.asmatrix(cars.loc[:,('kmpl','types')])\n",
    "ols_3y = np.asmatrix(cars.loc[:,'price']).T\n",
    "model_ols_3 = linear_model.LinearRegression().fit(ols_3X,ols_3y)\n",
    "price_ols_3 = model_ols_3.predict(ols_3X)\n",
    "beta_0_ols_3, beta_1_ols_3 = model_ols_3.intercept_, model_ols_3.coef_\n",
    "print(beta_0_ols_3, beta_1_ols_3)"
   ]
  },
  {
   "cell_type": "code",
   "execution_count": null,
   "metadata": {
    "collapsed": false
   },
   "outputs": [],
   "source": [
    "# Plot the data & model line\n",
    "plt.scatter(cars0.kmpl, cars0.price, s = 250, facecolor=\"None\", edgecolor=green, linewidth=4)\n",
    "plt.scatter(cars1.kmpl, cars1.price, s = 250, facecolor=green, edgecolor=green, linewidth=4)\n",
    "\n",
    "#plt.scatter(kmpl, price, s = 250, facecolor=\"None\", edgecolor=green, linewidth=2)\n",
    "plt.scatter(kmpl, price_ols_3, s = 250, facecolor=\"None\", edgecolor=orange, linewidth=4)\n",
    "\n",
    "plt.xlabel('kmpl')\n",
    "plt.ylabel('price')\n",
    "hide_spines()\n",
    "plt.savefig(\"figures/fig_cars_08a.png\")"
   ]
  },
  {
   "cell_type": "markdown",
   "metadata": {},
   "source": [
    "# [5] Process of Model Fitting"
   ]
  },
  {
   "cell_type": "code",
   "execution_count": null,
   "metadata": {
    "collapsed": false
   },
   "outputs": [],
   "source": [
    "plt.scatter(cars0.kmpl, cars0.price, s = cars0.bhp*4, facecolor=\"None\", edgecolor=green, linewidth=2)\n",
    "plt.scatter(cars1.kmpl, cars1.price, s = cars1.bhp*4, facecolor=green, edgecolor=green, linewidth=2)\n",
    "plt.xlabel('kmpl')\n",
    "plt.ylabel('price')\n",
    "hide_spines()\n",
    "plt.savefig(\"figures/fig_cars_09.png\")"
   ]
  },
  {
   "cell_type": "code",
   "execution_count": null,
   "metadata": {
    "collapsed": false
   },
   "outputs": [],
   "source": [
    "# Plot the data & model line\n",
    "plt.scatter(cars0.kmpl, cars0.price, s = cars0.bhp*4, facecolor=\"None\", edgecolor=green, linewidth=2)\n",
    "plt.scatter(cars1.kmpl, cars1.price, s = cars1.bhp*4, facecolor=green, edgecolor=green, linewidth=2)\n",
    "\n",
    "plt.scatter(cars0.kmpl, cars0.price_ols_4, s = cars0.bhp*4, facecolor=\"None\", edgecolor=orange, linewidth=2)\n",
    "plt.scatter(cars1.kmpl, cars1.price_ols_4, s = cars1.bhp*4, facecolor=orange, edgecolor=orange, linewidth=2)\n",
    "\n",
    "plt.xlabel('kmpl')\n",
    "plt.ylabel('price')\n",
    "hide_spines()\n",
    "plt.savefig(\"figures/fig_cars_10.png\")"
   ]
  },
  {
   "cell_type": "markdown",
   "metadata": {},
   "source": [
    "## Visualise Model Errors\n",
    "### OLS (4 feature)"
   ]
  },
  {
   "cell_type": "code",
   "execution_count": null,
   "metadata": {
    "collapsed": false
   },
   "outputs": [],
   "source": [
    "# Plot the errors\n",
    "plt.scatter(cars0.kmpl, cars0.price, s = cars0.bhp*4, facecolor=\"None\", edgecolor=green, linewidth=2)\n",
    "plt.scatter(cars1.kmpl, cars1.price, s = cars1.bhp*4, facecolor=green, edgecolor=green, linewidth=2)\n",
    "\n",
    "plt.scatter(cars0.kmpl, cars0.price_ols_4, s = cars0.bhp*4, facecolor=\"None\", edgecolor=orange, linewidth=2)\n",
    "plt.scatter(cars1.kmpl, cars1.price_ols_4, s = cars1.bhp*4, facecolor=orange, edgecolor=orange, linewidth=2)\n",
    "\n",
    "plt.scatter(kmpl, price, s = 20, facecolor=red, edgecolor=red, linewidth=4)\n",
    "plt.scatter(kmpl, price_ols_4, s = 20, facecolor=red, edgecolor=red, linewidth=4)\n",
    "\n",
    "ols_errL = cars.price_ols_4 - cars.price\n",
    "ols_errB = cars.price_ols_4 - cars.price_ols_4\n",
    "plt.errorbar(kmpl, price_ols_4, fmt = 'none', yerr=[ols_errL, ols_errB], ecolor=red, elinewidth = 5)\n",
    "\n",
    "plt.xlabel('kmpl')\n",
    "plt.ylabel('price')\n",
    "hide_spines()\n",
    "plt.savefig(\"figures/fig_cars_11.png\")"
   ]
  },
  {
   "cell_type": "code",
   "execution_count": null,
   "metadata": {
    "collapsed": false
   },
   "outputs": [],
   "source": [
    "# Plot the errors \n",
    "plt.scatter(kmpl, ols_errL, s = 20, facecolor=\"None\", edgecolor=red, linewidth=4)\n",
    "plt.scatter(kmpl, ols_errB, s = 20, facecolor=\"None\", edgecolor=red, linewidth=4)\n",
    "\n",
    "plt.axhline(0, color='w', linewidth=1)\n",
    "\n",
    "plt.errorbar(kmpl, ols_errL, fmt = \"none\", yerr=[ols_errL, ols_errB], ecolor=red, elinewidth = 4)\n",
    "\n",
    "plt.xlabel('kmpl')\n",
    "plt.ylabel(r'price error $(\\epsilon)$')\n",
    "hide_spines()\n",
    "plt.savefig(\"figures/fig_cars_12.png\")"
   ]
  },
  {
   "cell_type": "markdown",
   "metadata": {
    "collapsed": true
   },
   "source": [
    "## Final Model - Cross Validation"
   ]
  },
  {
   "cell_type": "code",
   "execution_count": null,
   "metadata": {
    "collapsed": false
   },
   "outputs": [],
   "source": [
    "plt.scatter(price, price_ols_4_val, s = 200, facecolor=\"None\", edgecolor='r', linewidth=2)\n",
    "\n",
    "plt.xlabel('price')\n",
    "plt.ylabel('price_prediction')\n",
    "\n",
    "plt.xlim(100,900)\n",
    "plt.ylim(100,900)\n",
    "\n",
    "hide_spines()\n",
    "plt.savefig(\"figures/fig_cars_13.png\")"
   ]
  },
  {
   "cell_type": "code",
   "execution_count": null,
   "metadata": {
    "collapsed": false
   },
   "outputs": [],
   "source": [
    "plt.scatter(cars0.kmpl, cars0.price, s = cars0.bhp*4, facecolor=\"None\", edgecolor=green, linewidth=2)\n",
    "plt.scatter(cars1.kmpl, cars1.price, s = cars1.bhp*4, facecolor=green, edgecolor=green, linewidth=2)\n",
    "\n",
    "plt.scatter(cars0.kmpl, cars0.price_ols_4_val, s = cars0.bhp*4, facecolor=\"None\", edgecolor=orange, linewidth=2)\n",
    "plt.scatter(cars1.kmpl, cars1.price_ols_4_val, s = cars1.bhp*4, facecolor=orange, edgecolor=orange, linewidth=2)\n",
    "\n",
    "plt.xlabel('kmpl')\n",
    "plt.ylabel('price')\n",
    "hide_spines()\n",
    "plt.savefig(\"figures/fig_cars_14.png\")"
   ]
  },
  {
   "cell_type": "code",
   "execution_count": null,
   "metadata": {
    "collapsed": true
   },
   "outputs": [],
   "source": []
  },
  {
   "cell_type": "code",
   "execution_count": null,
   "metadata": {
    "collapsed": true
   },
   "outputs": [],
   "source": []
  },
  {
   "cell_type": "code",
   "execution_count": null,
   "metadata": {
    "collapsed": true
   },
   "outputs": [],
   "source": []
  },
  {
   "cell_type": "code",
   "execution_count": null,
   "metadata": {
    "collapsed": true
   },
   "outputs": [],
   "source": []
  }
 ],
 "metadata": {
  "kernelspec": {
   "display_name": "Python 3",
   "language": "python",
   "name": "python3"
  },
  "language_info": {
   "codemirror_mode": {
    "name": "ipython",
    "version": 3
   },
   "file_extension": ".py",
   "mimetype": "text/x-python",
   "name": "python",
   "nbconvert_exporter": "python",
   "pygments_lexer": "ipython3",
   "version": "3.5.2"
  }
 },
 "nbformat": 4,
 "nbformat_minor": 0
}
